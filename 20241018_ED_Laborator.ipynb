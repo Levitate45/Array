{
  "nbformat": 4,
  "nbformat_minor": 0,
  "metadata": {
    "colab": {
      "provenance": [],
      "toc_visible": true,
      "include_colab_link": true
    },
    "kernelspec": {
      "name": "python3",
      "display_name": "Python 3"
    },
    "language_info": {
      "name": "python"
    }
  },
  "cells": [
    {
      "cell_type": "markdown",
      "metadata": {
        "id": "view-in-github",
        "colab_type": "text"
      },
      "source": [
        "<a href=\"https://colab.research.google.com/github/Levitate45/Array/blob/master/20241018_ED_Laborator.ipynb\" target=\"_parent\"><img src=\"https://colab.research.google.com/assets/colab-badge.svg\" alt=\"Open In Colab\"/></a>"
      ]
    },
    {
      "cell_type": "code",
      "execution_count": 8,
      "metadata": {
        "id": "YHWELi6LthpL"
      },
      "outputs": [],
      "source": [
        "import numpy\n",
        "import sympy\n",
        "from sympy import*\n",
        "from sympy.matrices import Matrix\n",
        "from matplotlib import pyplot\n",
        "sympy.init_printing()"
      ]
    },
    {
      "cell_type": "code",
      "source": [
        "omega1=sympy.symbols('omega1', positive=True)\n",
        "U1=sympy.symbols('U1',real=True)\n",
        "V1=sympy.symbols('V1',real=True)\n",
        "t=sympy.symbols('t',real=True)"
      ],
      "metadata": {
        "id": "K_rL8oCjvmlS"
      },
      "execution_count": null,
      "outputs": []
    },
    {
      "cell_type": "code",
      "source": [
        "U1=230*sympy.sqrt(2)*sympy.sin(omega1*t)\n",
        "V1=230*sympy.sqrt(2)*sympy.expand_trig(sympy.sin(omega1*t-2*sympy.pi/3))\n",
        "U1,V1"
      ],
      "metadata": {
        "colab": {
          "base_uri": "https://localhost:8080/",
          "height": 68
        },
        "id": "szCr--2Pv9OB",
        "outputId": "b394ea32-87d0-423e-c42b-ae2410626eed"
      },
      "execution_count": null,
      "outputs": [
        {
          "output_type": "execute_result",
          "data": {
            "text/plain": [
              "⎛                         ⎛  sin(ω₁⋅t)   √3⋅cos(ω₁⋅t)⎞⎞\n",
              "⎜230⋅√2⋅sin(ω₁⋅t), 230⋅√2⋅⎜- ───────── - ────────────⎟⎟\n",
              "⎝                         ⎝      2            2      ⎠⎠"
            ],
            "text/latex": "$\\displaystyle \\left( 230 \\sqrt{2} \\sin{\\left(\\omega_{1} t \\right)}, \\  230 \\sqrt{2} \\left(- \\frac{\\sin{\\left(\\omega_{1} t \\right)}}{2} - \\frac{\\sqrt{3} \\cos{\\left(\\omega_{1} t \\right)}}{2}\\right)\\right)$"
          },
          "metadata": {},
          "execution_count": 5
        }
      ]
    },
    {
      "cell_type": "code",
      "source": [
        "T32=sympy.Matrix([[sympy.sqrt(sympy.Rational(3/2)),0],[1/sympy.sqrt(2),sympy.sqrt(2)]])\n",
        "T32"
      ],
      "metadata": {
        "colab": {
          "base_uri": "https://localhost:8080/",
          "height": 68
        },
        "id": "mT69pO-vwiEo",
        "outputId": "1f85bbe9-1616-4cbc-a394-62a59c99a1f4"
      },
      "execution_count": null,
      "outputs": [
        {
          "output_type": "execute_result",
          "data": {
            "text/plain": [
              "⎡√6    ⎤\n",
              "⎢──  0 ⎥\n",
              "⎢2     ⎥\n",
              "⎢      ⎥\n",
              "⎢√2    ⎥\n",
              "⎢──  √2⎥\n",
              "⎣2     ⎦"
            ],
            "text/latex": "$\\displaystyle \\left[\\begin{matrix}\\frac{\\sqrt{6}}{2} & 0\\\\\\frac{\\sqrt{2}}{2} & \\sqrt{2}\\end{matrix}\\right]$"
          },
          "metadata": {},
          "execution_count": 6
        }
      ]
    },
    {
      "cell_type": "code",
      "source": [
        "U_U1V1=sympy.Matrix([[U1],[V1]])\n",
        "U_U1V1"
      ],
      "metadata": {
        "colab": {
          "base_uri": "https://localhost:8080/",
          "height": 69
        },
        "id": "ZDo5_96pxVde",
        "outputId": "c5798c9b-c0ad-402b-98c2-346f00c77fa9"
      },
      "execution_count": null,
      "outputs": [
        {
          "output_type": "execute_result",
          "data": {
            "text/plain": [
              "⎡         230⋅√2⋅sin(ω₁⋅t)          ⎤\n",
              "⎢                                   ⎥\n",
              "⎢       ⎛  sin(ω₁⋅t)   √3⋅cos(ω₁⋅t)⎞⎥\n",
              "⎢230⋅√2⋅⎜- ───────── - ────────────⎟⎥\n",
              "⎣       ⎝      2            2      ⎠⎦"
            ],
            "text/latex": "$\\displaystyle \\left[\\begin{matrix}230 \\sqrt{2} \\sin{\\left(\\omega_{1} t \\right)}\\\\230 \\sqrt{2} \\left(- \\frac{\\sin{\\left(\\omega_{1} t \\right)}}{2} - \\frac{\\sqrt{3} \\cos{\\left(\\omega_{1} t \\right)}}{2}\\right)\\end{matrix}\\right]$"
          },
          "metadata": {},
          "execution_count": 7
        }
      ]
    },
    {
      "cell_type": "code",
      "source": [
        "U_UA1B1=T32*U_U1V1\n",
        "U_UA1B1"
      ],
      "metadata": {
        "id": "kwy071Pqx9vL",
        "colab": {
          "base_uri": "https://localhost:8080/",
          "height": 60
        },
        "outputId": "6cabf078-81b6-47f8-bdcc-7a9a5ff9dc92"
      },
      "execution_count": 9,
      "outputs": [
        {
          "output_type": "execute_result",
          "data": {
            "text/plain": [
              "⎡230⋅√3⋅sin(ω₁⋅t) ⎤\n",
              "⎢                 ⎥\n",
              "⎣-230⋅√3⋅cos(ω₁⋅t)⎦"
            ],
            "text/latex": "$\\displaystyle \\left[\\begin{matrix}230 \\sqrt{3} \\sin{\\left(\\omega_{1} t \\right)}\\\\- 230 \\sqrt{3} \\cos{\\left(\\omega_{1} t \\right)}\\end{matrix}\\right]$"
          },
          "metadata": {},
          "execution_count": 9
        }
      ]
    },
    {
      "cell_type": "code",
      "source": [],
      "metadata": {
        "id": "yu4KPoSTytJe"
      },
      "execution_count": null,
      "outputs": []
    }
  ]
}